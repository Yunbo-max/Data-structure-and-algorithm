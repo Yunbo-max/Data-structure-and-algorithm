{
 "cells": [
  {
   "cell_type": "code",
   "execution_count": null,
   "metadata": {},
   "outputs": [],
   "source": [
    "class Solution:\n",
    "    def twoSum(self, nums: List[int], target: int) -> List[int]:\n",
    "        numToIndex = {}\n",
    "        for i in range(len(nums)):\n",
    "            if target - nums[i] in numToIndex:\n",
    "                return [numToIndex[target - nums[i]], i]\n",
    "            numToIndex[nums[i]] = i\n",
    "        return []\n",
    "\n",
    "class solution:\n",
    "    def twosum(self,num:List[int],target: int) -> List[int]:\n",
    "        numtoindex = {}\n",
    "        for i in range(len(num)):\n",
    "            if target - num[i] in numtoindexL\n",
    "                return [numtoindex[target - num[i]],i]\n",
    "            numtoindex[num[i]] = i\n",
    "        return []"
   ]
  },
  {
   "cell_type": "code",
   "execution_count": null,
   "metadata": {},
   "outputs": [],
   "source": []
  }
 ],
 "metadata": {
  "language_info": {
   "name": "python"
  }
 },
 "nbformat": 4,
 "nbformat_minor": 2
}
